{
 "cells": [
  {
   "cell_type": "markdown",
   "metadata": {},
   "source": [
    "# Topic Modeling / LDA\n",
    "\n",
    "based on tutorial found at\n",
    "https://www.analyticsvidhya.com/blog/2016/08/beginners-guide-to-topic-modeling-in-python/\n"
   ]
  },
  {
   "cell_type": "code",
   "execution_count": 78,
   "metadata": {
    "collapsed": true
   },
   "outputs": [],
   "source": [
    "import pandas as pd"
   ]
  },
  {
   "cell_type": "code",
   "execution_count": 79,
   "metadata": {
    "collapsed": true
   },
   "outputs": [],
   "source": [
    "# read data\n",
    "df = pd.read_csv(\"posts_4chan_pol.csv\")"
   ]
  },
  {
   "cell_type": "code",
   "execution_count": 80,
   "metadata": {
    "collapsed": true
   },
   "outputs": [],
   "source": [
    "# creat new column where 'Comments' strings are split into list-\n",
    "# this is needed as input for Gensim dictionaries\n",
    "df['Comment_split'] = df.Comment.str.split()"
   ]
  },
  {
   "cell_type": "code",
   "execution_count": 112,
   "metadata": {},
   "outputs": [
    {
     "name": "stdout",
     "output_type": "stream",
     "text": [
      "['board', 'discussion', 'news', 'world', 'event', 'political', 'issue', 'related', 'topic', 'offtopic', 'btier', 'thread', 'deleted', 'possibly', 'earn', 'ban', 'persist', 'unless', 'quality', 'well', 'thought', 'well', 'written', 'post', 'following', 'example', 'offtopic', 'andor', 'btier', 'thread', 'red', 'pill', 'x', 'extra', 'content', 'input', 'x', 'white', 'x', 'degeneracy', 'come', 'x', 'girl', 'love', 'guy', 'much', 'x', 'true', 'come', 'checkmate', 'z', 'variety', 'thread', 'allowed', 'flexible', 'believe', 'freedom', 'speech', 'expect', 'high', 'level', 'discourse', 'befitting', 'board', 'attempt', 'disrupt', 'board', 'tolerated', 'call', 'disrupt', 'board', 'site', 'want', 'place', 'discus', 'topic', 'related', 'news', 'world', 'event', 'politics', 'please', 'try', 'bant', 'internationalrandom']\n",
      "['come', 'armenian', 'dominant', 'haplogroup', 'western', 'european', 'armenian', 'european', 'heritageare', 'one']\n",
      "['\\xcf\\x9f\\xcf\\x9f', 'eternal', 'struggle', 'eternal', 'growth', '\\xcf\\x9f\\xcf\\x9f', 'natsig', 'belongs', 'pol', 'tread', 'motivate', 'people', 'protect', 'white', 'race', 'make', 'country', 'diversity', 'promoted', 'better', 'giving', 'better', 'understanding', 'combat', 'improve', '\\xe1\\x9b\\x89', 'honor', 'blood', 'soil', '\\xe1\\x9b\\x89', 'purge', 'degeneracy', '\\xe1\\x9b\\x89', 'persistence', 'omnipotent', 'gigabyte', 'selfimprovement', 'resource', 'httpsmeganzfzuzmibqzxhyeetuaj6an8ntbu1azw', 'pol', 'ebooks', 'archive', 'become', 'scholar', 'httpmeganzfb4db2szqhpmc30v2ay31id0dy0sg', '\\xe1\\x9b\\x89', 'new', 'natsig', 'start', 'httpsyoutubejwhufuuyhso', 'embed', 'httpsyoutubeuiozt5bsqk', 'embed', 'httpsyoutube34kot9ulnuy', 'embed', 'httpsyoutubeaig4jfm7gw', 'embed', '\\xcf\\x9f\\xcf\\x9f', 'nsg', 'series', '\\xcf\\x9f\\xcf\\x9f', 'httpsyoutubebr2imcwabjq', 'embed', '\\xe1\\x9b\\x89', 'see', 'general', 'catalog', 'copy', 'pastebin', 'start', 'one', 'natsig', 'httppastebincomvpzpydhk', 'original', 'sig', 'httpspastebincomjhmzwl9h', 'discord', 'gg', '9yzpqn9', '\\xe1\\x9b\\x89', 'science', 'literacy', 'httpsyoutubezah5subulvm', 'embed', 'human', 'accomplishment', 'douglas', 'murray', 'httpswwwgwernnetdocs2003murrayhumanaccomplishmentpdf', 'dysgenics', 'genetic', 'deterioration', 'modern', 'population', 'httpdocdroidavpyesh', 'race', 'difference', 'intelligence', 'richard', 'lynn', 'httpdocdroide2per1e', 'httpspastebincomq1hmec4a', 'httphumanbiologicaldiversitycom', '\\xe1\\x9b\\x89', 'political', 'position', 'statement', 'httpswwwnordfrontseourpath2', 'httpsnatallcomaboutwhatwebelieve', 'httpnorthwestfrontorgabout', 'httpspastebincomvr6jhew5', '\\xe1\\x9b\\x89', 'news', 'radio', 'commentary', 'forum', 'httpswwwspreakercomshownordicfrontier', 'httpironmarchorg', 'httpinfostormercom', 'httpsropecultureorg', 'httpsthepurityspiralcom', 'httpsatomwaffendivisionorg', 'httpswwwamericanblackshirtscom', '\\xcf\\x9f\\xcf\\x9f', '3rd', 'reich', 'image', 'archive', '\\xcf\\x9f\\xcf\\x9f', 'httpsmeganzfa8st2bcq8stgxguopzelof1zc0nz7w']\n",
      "['teacher', 'brainwashing', 'child', 'thinking', 'bad', 'guy', 'hitler', 'jew', 'done', 'good', 'world\\xe2\\x80\\x9d', 'labour', 'candidate', 'nasreen', 'khan', 'httpsorderordercom20171110labourcandidategoodjewsdone', 'voted', 'leave', 'eu', 'dont', 'bother', 'wearing', 'poppy', 'httpwwwindependentcoukvoiceseuleavevoteremembrancesundaydontbotherwearingapoppya8043711html', 'father', 'go', 'state', 'wanting', 'kill', 'brain', 'damaged', 'son', 'banned', 'hospital', 'httpswwwtheguardiancomuknews2017nov10isaiahhaastrupfatherbannedkingscollegehospitaltreatingbraindamagedsoncourttold', 'uk', 'must', 'provide', 'brexit', 'clarity', 'barnier', 'httpwwwbbccouknewsukpolitics41941414', 'pressure', 'grows', 'carwyn', 'jones', 'order', 'carl', 'sargeant', 'inquiry', 'httpswwwtheguardiancompolitics2017nov10pressuregrowswelshfirstministercarwynjonescarlsargeantinquiry', 'uk', 'prosecutor', 'destroyed', 'crucial', 'email', 'assange', 'case', 'httpswwwrtcomuk409477assangecpswikileakssweden', 'owen', 'jones', 'httpsenwikipediaorgwikiowenjoneswriter', 'britain', 'back', 'ban', 'bee', 'killing', 'pesticide', 'httpswwwnewfoodmagazinecomnews46238britainbacksbanbeekillingpesticides', 'plenty', 'room', 'left', 'build', 'million', 'house', 'greenbelt', 'end', 'like', 'tokyo', 'httpwwwbbccouknewsuk41901294', 'alex', 'salmond', 'host', 'tv', 'show', 'russia', 'today', 'nicola', 'sturgeon', 'screech', 'autisically', 'httpwwwbbccouknewsukscotlandscotlandpolitics41941359']\n",
      "['guy', 'know', 'fucking', 'retarded', 'sound', 'seriously', 'what\\xe2\\x80\\x99s', 'special', 'ethnic', 'group', 'guy', 'make', 'fun', 'chink', 'soul', 'japanese', 'equally', 'devoid', 'soul', 'working', 'hour', 'day', 'subhuman', 'thing', 'like', 'eat', 'whale', 'believe', 'demon', 'spirit', '\\xe9\\xac\\xbc', 'superstitious', 'shit', 'seriously', 'actual', 'japanese', 'people', 'think', 'gaijin', 'retarded', 'japanese', 'don\\xe2\\x80\\x99t', 'care', 'anyone\\xe2\\x80\\x99s', 'who\\xe2\\x80\\x99s', 'japanese', 'fabricate', 'politeness', 'seriously', 'you\\xe2\\x80\\x99re', 'buying', 'propaganda', 'ethno', 'state', 'superiority', 'fact', 'they\\xe2\\x80\\x99re', 'bad', 'asian', 'make', 'fun', 'httpsyoutube0gjxbywmlt4']\n",
      "['president', 'donald', 'j', 'trump', 'httpswwwwhitehousegov', 'httpswwwdonaldjtrumpcom', 'bbut', 'trump', 'hasnt', 'done', 'anything', 'httpspastebincomjns5qy2q', 'httpspastebincombcsagmdf', 'prev', 'appearanceslinks', 'httppastebincomynxv6cht', 'daily', 'schedule', 'wh', 'press', 'corp', 'httpspublicpoolkinjacom', 'trumptv', 'weekly', 'update', 'httpspastebincom6hbhjbqf', 'newtrump', 'nightly', 'news', 'httppastebincomyarfukdc', 'new', 'appearance', 'pres', 'trump', 'weekly', 'address', 'vet', 'day', 'message', 'httpsyoutubej9chiogd9xg', 'wh', 'video', 'flotus', 'melania', 'visit', 'mil', 'family', 'alaska', 'httpsyoutube9dtgefqsbym', 'vp', 'penny', 'arlington', 'natl', 'cemetary', 'veteran', 'day', 'ceremony', 'httpsyoutubea23ftwq8hga', 'pres', 'trump', 'toast', 'hanoi', 'state', 'banquet', 'httpsyoutubei8ghkk765w0', 'pres', 'trump', 'red', 'carpet', 'arrival', 'hanoi', 'httpsyoutubesw8wblcn66o', 'pres', 'trump', 'departs', 'danang', 'toward', 'hanoi', 'httpsyoutubefj41zqw72va', 'pres', 'trumpputin', 'chatting', 'apec', 'httpsyoutubeq0dney9ey34', 'pres', 'trumpapec', 'family', 'photo', 'httpsyoutubeubulbjr4', 'pres', 'trumpapec', 'conference', 'httpsyoutubetysq2krcyb4', 'va', 'sec', 'shulkin', 'ff', 'veteran', 'day', 'httpsyoutubez7cki8g9phc', 'week', 'state', 'httpsyoutubelhvnibnptfg', 'pres', 'trump', 'arriving', 'apec', 'conference', 'httpsyoutubetvrgds3hdlu', 'trumptv', 'weekly', 'update', 'lara', 'httpsyoutuber8p7xrmhpzg', 'pres', 'trump', 'clip', 'apec', 'dinner', 'httpsyoutubejlgkbuzpuu8', 'httpsyoutube4ve5k3yibcs', 'pres', 'trump', 'arriving', 'apec', 'dinner', 'httpsyoutuberwevxdjfra', 'pres', 'trump', 'apec', 'dinner', 'full', 'httpsyoutube7tfzlqvdr0', '2hr', 'httpsyoutubesu32dedlymw', '4hr', 'flotus', 'melania', 'meeting', 'service', 'member', 'family', 'alaska', 'httpsyoutubeaenyu6d8qk0', 'httpsyoutubeczadgkqs9s', 'decorating', 'httpsyoutubettrrbwbkphk', 'putty', 'httpsyoutubefomesbhfm6u', 'kazoo', 'op', 'pastebin', 'httppastebincomnygxu29r', 'prev']\n",
      "['httpswwwyoutubecomwatchva4jxhhxhwya', 'talk', 'hiddencryptic', 'message', 'type', 'comment', 'emulator', 'get', 'taiwan', 'crap', 'google', 'translate', 'english', 'lasagna', 'get', 'almost', 'right', 'sentence', 'hi', 'p', 'btw', 'uh', 'uncategorized', 'uncategorised', 'deti', 'ikk', 'c', 'soo', 'mparkinglot', 'conijijj', 'bunayyy', 'tke', 'lemonide', 'bring', 'cut', 'right', 'word', 'pedo', 'message', 'maybe', 'one', 'another', 'come', 'c', 'soo', 'nparkinglot', 'bring', 'talk', 'friendship', 'comment', 'especially', 'rule', 'silent', 'inb4', 'mod', 'delete']\n",
      "['thread', 'theme', 'httpsyoutubeyg3tchbzs', 'national', 'party', 'httpwwwnationalpartyie', 'join', 'party', 'spread', 'wordmemes', 'social', 'circle', 'online', 'otherwise', 'learn', 'irish', 'httpwwwdaltaicom', 'httpwwwteanglannieen', 'jewtube', 'channel', 'note', 'national', 'party', 'httpswwwyoutubecomchannelucxgy69monugucdo1ypygng', 'hateful', 'gael', 'httpswwwyoutubecomchannelucdhug96y6kut7tcfghgj1ug', 'httpswwwyoutubecomchannelucmnqhyf2dq3i0evri95p83a', 'gaelic', 'neoreactionary', 'httpswwwyoutubecomchannelucrucve1fxhz8m8xxxeug', 'headline', 'half', 'longford', 'mixed', 'race', 'httpwwwlongfordleaderienewshome280520longfordtobemixedracecountyby2050htmlwgrzjtlrj7ktwitter', 'homelessness', 'figure', 'low', 'international', 'standard', 'varadkar', 'httpswwwrteienews20171111919200finegaelnationalconference', 'hard', 'border', 'happen', 'coveney', 'httpswwwrteienews20171111919232coveneynothernirelandborder', 'abortion', 'case', 'rape', 'legalised', 'katie', 'ascough', 'httpswwwindependentieirishnewspoliticskatieascoughabortionincasesofrapeshouldnotbelegalised36310126html', 'unionist', 'praise', 'taoiseach', 'shamrock', 'poppy', 'httpswwwindependentieirishnewspoliticsunionistspraisetaoiseachforshamrockpoppy36303437html', 'apple', 'data', 'centre', 'dead', 'httpswwwindependentieirishnewspoliticsappledatacentredealnotdeadtaoiseach36303415html', 'taoiseach', 'say', 'ireland', 'joining', 'european', 'army', 'httpwwwthejournalieirelandeuropeanarmy3686674nov2017', 'irish', 'dead', 'world', 'war', 'ii', 'honoured', 'glasnevin', 'cemetery', 'httpwwwthejournalieworldwariandiideadhonoured3692267nov2017', 'memorial', 'irish', 'people', 'died', 'war', 'damaged', 'sligo', 'httpwwwthejournaliepoppiesdamagedsligo3680327nov2017']\n",
      "['thought', 'httpsyoutubeu0nwiwacll8']\n",
      "['year', 'old', 'daughter', 'event', 'mike', 'wouldnt', 'let', 'sight']\n",
      "['starting', 'hate', 'nazi', 'clear', 'theyre', 'autistic', 'retard', 'trying', 'subvert', 'right', 'leftist', 'policy', 'also', 'give', 'right', 'wing', 'bad', 'reputation', 'push', 'people', 'left', 'nazi', 'white', 'nationalist', 'antifa', 'maker', 'machine', 'cant', 'let', 'continue', 'tired', 'nazi', 'coming', 'board', 'general', 'post', 'shame', 'image', 'discus', 'removal', 'stormfaggotry', 'nazism', 'fascism', 'white', 'nationalism', 'collectivism', 'larpdom', 'leftism', 'ancaps', 'libertarian', 'republican', 'welcome', 'redpilled', 'african', 'american', 'asian', 'hispanic', 'latino', 'muslim', 'welcome', 'well', 'death', 'collectivism', 'death', 'identity', 'politics', 'death', 'big', 'authoritarian', 'government', 'cheapest', 'sort', 'pride', 'national', 'pride', 'man', 'proud', 'nation', 'argues', 'quality', 'proud', 'otherwise', 'would', 'recourse', 'share', 'many', 'million', 'fellowmen', 'man', 'endowed', 'important', 'personal', 'quality', 'ready', 'see', 'clearly', 'respect', 'nation', 'fall', 'short', 'since', 'failing', 'constantly', 'eye', 'every', 'miserable', 'fool', 'nothing', 'proud', 'adopts', 'last', 'resource', 'pride', 'nation', 'belongs', 'ready', 'glad', 'defend', 'fault', 'folly', 'tooth', 'nail', 'thus', 'reimbursing', 'inferiority', 'arthur', 'schopenhauer', 'nazi', 'get', 'punched', 'httpswwwyoutubecomwatchvuyk6io7vqnu', 'thread', 'theme', 'httpswwwyoutubecomwatchvfhtkjtctnw']\n",
      "['fear', 'potential', 'much', 'westerner', 'want', 'fail', 'theyre', 'shook', 'want', 'weak', 'nonchinese', 'like', 'black', 'arab', 'instinctively', 'know', 'charge', 'strategy', 'guilt', 'others', 'get', 'want', 'go', 'window', 'come', 'chinaman', 'ban', 'lgbt', 'online', 'doesnt', 'advocate', 'forced', 'multiculturalism', 'like', 'western', 'white', 'doesnt', 'declining', 'asian', 'population', 'western', 'country', 'white', 'people', 'becoming', 'minority', 'especially', 'united', 'state', 'hate', 'nigger', 'kike', 'beaner', 'mudslimes', 'white', 'high', 'iq', 'people', 'probably', 'highest', 'entire', 'planet', 'american', 'play', '8d', 'chess', 'chinaman', 'play', 'intergalactic', 'mahjong', 'chinaman', 'im', 'flattered', 'every', 'race', 'get', 'shook', 'discussion', 'dont', 'get', 'mad', 'see', 'thing', 'nationalist', 'perspective', 'benefit', 'ethnicity', 'race', 'normal', 'look', 'people', 'instead', 'compromise', 'others', 'dont', 'interest', 'mind']\n",
      "['happens', 'lose', 'guy']\n",
      "['trying', 'turn', 'tay', 'white', 'supremacist', 'look', 'like', 'pewdiepie', 'situation', 'purpose', 'really', 'stupid']\n",
      "['sweden', 'yes']\n",
      "['httpspastebinca3930472', 'updated', 'qrd', 'summary', 'simple', 'rundown', '\\xe2\\x80\\x93', 'mintel', 'anon', '\\xe2\\x80\\x93', 'via', 'saudi', 'theory', '\\xe2\\x80\\x93', 'via', 'via', 'sa', 'timeline', '\\xe2\\x80\\x93', 'savegas', '\\xe2\\x80\\x93', 'via', 'big', 'picture', '\\xe2\\x80\\x93', 'via', 'rpp', '\\xe2\\x80\\x93', 'via', 'endgame', '\\xe2\\x80\\x93', 'pull', 'hair', '\\xe2\\x80\\x93', 'via', 'q', 'new', 'theory', '\\xe2\\x80\\x93', 'search', 'analytics', 'need', 'circular', 'diagram', 'flowchart', 'infographics', 'httpspastebinca3930472', 'read', 'q', 'disney', 'huma', 'n', 'trafficking', 'theorist', 'httpstttthreadscomuserimperatorrex3', 'httpstttthreadscomuserlarryschweikart', 'httpstttthreadscomuserdrawandstrike', 'httpstttthreadscomuserthomaswictor', 'anons', 'work', 'wont', 'forgotten', 'let', 'energy', 'level', 'rise', 'like', 'never', 'praise', 'kek', 'httpsappsmartsheetcombpublisheqbcte3d1071b533c412f8bc08ebbb1b444f6', 'anons', 'charged', 'holding', 'together', 'fabric', 'society', 'happening', 'announced', 'pullback', 'tear', 'fabric', 'remember', 'ancestor', 'duty', 'peace', 'prosperity', 'reward', 'keep', 'head', 'keep', 'eye', 'goal', 'redpill', 'normies', 'fulfill', 'goal', '\\xe2\\x80\\x9cbastion', 'free', 'speech\\xe2\\x80\\x9d', 'pol', 'pray', 'make', 'corruption', 'wiki', 'highlight', 'corrupt', 'link', 'betweeen', 'clinton', 'saudi', 'rothsichilds', 'awans', 'politician', 'written', 'interlinked', 'form', 'reference', 'say', 'wikis', 'normie', 'friendly']\n",
      "['anyone', 'seen', 'debate', 'literally', 'hour', 'completely', 'dismantling', 'altright', 'sadnazi', 'movement', 'fake', 'news', 'talking', 'point']\n",
      "['httpswwwyoutubecomwatchvaypeagy9eg', 'httpswwwyoutubecomwatchvwxqhsxyvt0', 'httpswwwyoutubecomwatchvi6xtmalouy8', 'httpswwwyoutubecomwatchvqamu6weymo8', 'httpswwwyoutubecomwatchvbdcxxuxiwe']\n",
      "['show', 'love', 'king', 'pol', 'gone', 'enough', 'mj', 'jew', 'httpswwwyoutubecomwatchvp2xpctm9ya', 'mj', 'collected', 'nazi', 'memorabilia', 'httpthecelebritycafecom201007michaeljacksonfannazimemorabilia', 'mj', 'talk', 'conspiracy', 'httpswwwyoutubecomwatchvo2n4mcuh2p0', 'mj', 'medium', 'tabloid', 'httpswwwyoutubecomwatchvgcu6kn5gmy', 'complete', 'rebuttal', 'allegation', 'httpswwwyoutubecomwatchv6pnoqqlygqs', 'evan', 'chandler', 'accuser', 'allegation', 'jewish', 'httpsenwikipediaorgwikievanchandler', 'paris', 'jackson', 'claim', 'mj', 'murdered', 'httpwwwindependentcouknewsworldamericasparisjacksonmichaeljacksonwasmurdereddeadsingerdaughterpopstara7544946html', 'httpsarchiveis26xz4', 'going', 'kill', 'httpwwwwptvcomentertainmentmichaeljacksontheyregoingtokillmemichaeljacksontoldson']\n",
      "['jesus', 'christ', 'bob', 'mueller', 'please', 'hero', 'need', 'lock', 'traitorous', 'shit', 'gibbon', 'total', 'disrespect', 'constitution', 'fucking', 'appalling', 'fuck', 'trump', 'every', 'breath', 'take', 'httpswwwvoxcom2017111116636906trumprussiaputinintelligence', 'trumprussia']\n",
      "['hey', 'pol', 'im', 'year', 'old', 'black', 'guy', 'looking', 'get', 'shithole', 'country', 'collapse', 'degreeskill', 'get', 'go', 'original', 'plan', 'england', 'seem', 'pretty', 'fucked', 'whats', 'left']\n",
      "['prev', 'thread', 'give', 'advice', 'person', 'struggling', 'sexual', 'disphoria', 'struggling', 'full', 'blown', 'trap', 'degeneracy', 'remember', 'someone', 'son', 'someone', 'hope', 'offspring', 'dont', 'anons', 'tell', 'started', 'feeling', 'like']\n",
      "['time', 'next', 'one', 'guy', 'httpswwwyoutubecomwatchvjg2z35efoa', 'make', 'subtle', 'red', 'pill', 'meme', 'maybe', 'something', 'trigger', 'normies', 'mind', 'make', 'really', 'think', 'jewish', 'question', 'dont', 'anything', 'worthy', 'yet', 'im', 'trying', 'come', 'something', 'itt', 'trigger', 'jq', 'normies', 'brain']\n",
      "['httpwwwocweeklycomnewsaremexicanswhite6426421', 'interesting', 'article', 'find', 'inspiring', 'compelling', 'called', 'spanish', 'considered', 'white', 'im', 'mexican', 'consider', 'white', 'im', 'black', 'red', 'asian', 'understand', 'im', 'made', 'people', 'spain', 'caucasian', 'educator', 'dont', 'teach', 'anything', 'spain', 'prove', 'white', 'isnt', 'subjective', 'everchanging', 'mexican', 'northern', 'mexican', 'least', 'always', 'considered', 'white', 'latter', 'half', '20th', 'century', 'know', 'took', 'control', 'time', 'yep', 'eternal', 'nuisance', 'pic', 'related', 'clear', 'proof', 'white', 'european', 'immigrated', 'latin', 'america', '19th', '20th', 'century', 'whose', 'offspring', 'remains', 'day', 'white', 'argentinian', 'meme', 'polack', 'perpetuate', 'day', 'ill', 'tell', 'quite', 'accurate', 'according', 'httpsenwikipediaorgwikiargentinesoverview', 'argentine', 'proven', 'white', 'thousand', 'european', 'immigrant', 'came', 'throughout', 'latter', 'part', '19th', 'century', 'early', '19th', 'century', 'tell', 'presence', 'white', 'hispanic', 'limit', 'presence', 'risk', 'le', 'white', 'america']\n",
      "['archivestudyresearchlibrary', 'syriageneralswordpresscom', 'southfront', 'nov', 'httpyoutubekw95tlehcrq', 'latest', 'interview', 'assad', 'httpsyoutubeulxrv8tf5z8', 'httpsyoutubearhsocxen2q', 'live', 'map', 'httpsglobaleventmaporg', 'httpsyrialiveuamapcom', 'httpmilitarymapsinfo', 'fan', 'map', 'httpstwittercompetolucem', 'httpstwittercommiladvisor', 'httpstwittercoma7mirza', 'httpstwittercomhamza780', 'httpswwwedmapscom', 'recent', 'map', 'random', 'nov', 'httpsimgurcomaakdim', 'dezbukamal', 'nov', 'httpsimgurcoma8uqzx', 'n', 'hama', 'nov', 'httpsiimgurcomhlgv4dzjpg', 'ne', 'hama', 'nov', 'httpsiimgurcomnqba38gjpg', 'syria', 'nov', 'httpsiimgurcomsc9su1djpg', 'development', 'nov', 'iraqi', 'pmu', 'force', 'taken', 'control', 'albukamalqa\\xe2\\x80\\x99im', 'crossing', 'hezbollah\\xe2\\x80\\x99s', 'official', 'medium', 'wing', 'reported', 'tonight', 'putintrump', 'release', 'joint', 'statement', 'call', 'country', 'build', 'humanitarian', 'assistance', 'sy', 'agree', 'continue', 'military', 'comm', 'security', 'ruus', 'troop', 'saudi', 'national', 'kidnapped', 'house', 'keserwan', 'district', 'mount', 'lebanon', 'governorate', 'thursday', 'backed', 'tiger', 'forcesrepublican', 'guard', 'saa', 'marine', 'begin', 'offensive', 'ne', 'hama', 'axis', 'towards', 'abu', 'dhuhour', 'military', 'airport', 'iraqi', 'armed', 'force', 'liberated', 'stronghold', 'alrumanah', 'short', 'battle', 'w', 'countryside', 'alanbar', 'governorate', 'iran', 'constructing', 'possible', 'permanent', 'military', 'base', 'south', 'damascus', 'according', 'western', 'intelligence', 'officer', 'spoke', 'bbc', 'saa', 'resumed', 'offensive', 'outside', 'dez', 'targeting', 'last', 'position', 'large', 'island', 'hawijat', 'qati', 'sdf', 'seize', 'nearly', 'dozen', 'village', 'today', 'advance', 'within', 'kilometer', 'abu', 'kamal', 'hts', 'attempted', 'infiltrate', 'town', 'mahardeh', 'attack', 'checkpoint', 'manned', 'saandf', 'pushed', 'back', 'firefight', 'hts', 'rocket', 'attack', 'ongoing', 'isi', 'set', 'rawa', 'town', 'iraqi', 'army', 'prepares', 'assault', 'israel', 'disavows', 'claim', 'russian', 'origin', 'downed', '\\xe2\\x80\\x98syrian', 'spy', 'drone\\xe2\\x80\\x99', 'previous']\n",
      "['thread', 'whose', 'coming', 'age', 'current', 'youre', 'oldfag', 'enough', 'situation', 'get', 'happened', 'spent', 'high', 'school', 'day', 'height', 'iraq', 'war']\n",
      "['commie', 'statist', 'cucks', 'compete']\n",
      "['post', 'oc', 'request', 'drawfags', 'present', 'thread', 'either', 'way', 'fun', 'boy', 'useful', 'link', 'httpsmeganzf2rarfalavtiqb6erxfv4v6myq6fjta']\n",
      "['explain', 'pol']\n",
      "['kept', 'miscengating', 'amerindian', 'formed', 'mongrel', 'race', 'called', 'mestizo', 'even', 'mix', 'amerindian', 'spaniard', 'canadian', 'settler', 'contrast', 'miscengate', 'amerind', 'know', 'whats', 'even', 'worse', 'spaniard', 'also', 'miscengated', 'nigger', 'mestizo', 'average', 'black', 'blood', 'even', 'though', 'wont', 'admit', 'god', 'spaniard', 'miscengation', 'look', 'shitty', 'latin', 'american', 'look', 'american', 'canadian', 'look', 'much', 'better', 'get', 'really', 'pissed', 'see', 'people', 'spanish', 'flag', 'post', 'accuse', 'american', 'mongrel', 'admixed', 'nigger', 'amerindian', 'blood', 'actually', 'american', 'pure', 'latin', 'american', 'nigger', 'indian', 'admixed', 'mongrel', 'spaniard', 'awful', 'miscengators', 'actually', 'honest', 'even', 'sure', 'spain', 'free', 'nigger', 'blood', 'contamination', 'especially', 'southern', 'part', 'country', 'spain', 'country', 'spent', 'century', 'occupation', 'bunch', 'octoroon', 'morocco', 'getting', 'mixed', 'someplace', 'else']\n",
      "['listening', 'girlfriend', 'bitch', 'objectification', 'sexual', 'assault', 'came', 'across', 'biggest', 'forgotten', 'bonus', 'female', 'woman', 'something', 'people', 'want', 'body', 'value', 'male', 'body', 'yes', 'people', 'try', 'steal', 'access', 'body', 'ie', 'rape', 'suck', 'see', 'young', 'attractive', 'woman', 'complaining', 'fear', 'rape', 'similar', 'lamborghini', 'owner', 'complaining', 'fear', 'car', 'theft', 'yes', 'something', 'people', 'want', 'good', 'thing', 'im', 'sorry', 'people', 'try', 'take', 'forget', 'actually', 'something', 'people', 'want', 'first', 'place', 'get', 'live', 'advantage', 'whole', 'entire', 'life', 'youre', 'bitching', 'get', 'deal', 'comparatively', 'small', 'consequence']\n",
      "['need', 'repeal', 'polish', 'potato', 'order', 'england', 'httpswwwchangeorgpmichaelgovemprepealthepolishpotatoesorder2004intheukpolishpotatogate']\n",
      "['three', 'different', 'instance', 'theft', 'china', 'nail', 'coffin']\n",
      "['give', 'rest', 'credit', 'revolutionarycivil', 'war', 'every', 'fucking', 'year', 'basically', 'tradition']\n",
      "['okay', 'issue', 'christianity', 'universalist', 'religion', 'galatian', 'neither', 'jew', 'gentile', 'neither', 'slave', 'free', 'male', 'female', 'one', 'christ', 'jesus', 'christian', 'around', 'world', 'arent', 'white', 'basically', 'become', 'brown', 'black', 'asian', 'religion', 'day', 'christianity', 'entire', 'mythology', 'semitic', 'come', 'middle', 'east', 'youre', 'going', 'deport', 'jew', 'think', 'theyre', 'god', 'chosen', 'people']\n",
      "['trump', 'said', 'belief', 'putin', 'told', 'russia', 'election', 'hacking', 'putin', 'say', 'conversation', 'never', 'happened', 'never', 'trust', 'rskie', 'warned', 'instead', 'youve', 'elected', 'useful', 'idiot', 'going', 'run', 'america', 'ground', 'american', 'impeach', 'clown', 'httpssharebluecomtrumphumiliatedbyputinaftershoweringthedictatorwithpraise']\n",
      "['president', 'donald', 'j', 'trump', 'httpswwwwhitehousegov', 'httpswwwdonaldjtrumpcom', 'bbut', 'trump', 'hasnt', 'done', 'anything', 'httpspastebincomjns5qy2q', 'httpspastebincombcsagmdf', 'prev', 'appearanceslinks', 'httppastebincomynxv6cht', 'daily', 'schedule', 'wh', 'press', 'corp', 'httpspublicpoolkinjacom', 'trumptv', 'weekly', 'update', 'httpspastebincom6hbhjbqf', 'newtrump', 'nightly', 'news', 'httppastebincomyarfukdc', 'new', 'appearance', 'pres', 'trump', 'weekly', 'address', 'vet', 'day', 'message', 'httpsyoutubej9chiogd9xg', 'wh', 'video', 'flotus', 'melania', 'visit', 'mil', 'family', 'alaska', 'httpsyoutube9dtgefqsbym', 'vp', 'penny', 'arlington', 'natl', 'cemetary', 'veteran', 'day', 'ceremony', 'httpsyoutubea23ftwq8hga', 'pres', 'trump', 'toast', 'hanoi', 'state', 'banquet', 'httpsyoutubei8ghkk765w0', 'pres', 'trump', 'red', 'carpet', 'arrival', 'hanoi', 'httpsyoutubesw8wblcn66o', 'pres', 'trump', 'departs', 'danang', 'toward', 'hanoi', 'httpsyoutubefj41zqw72va', 'pres', 'trumpputin', 'chatting', 'apec', 'httpsyoutubeq0dney9ey34', 'pres', 'trumpapec', 'family', 'photo', 'httpsyoutubeubulbjr4', 'pres', 'trumpapec', 'conference', 'httpsyoutubetysq2krcyb4', 'va', 'sec', 'shulkin', 'ff', 'veteran', 'day', 'httpsyoutubez7cki8g9phc', 'week', 'state', 'httpsyoutubelhvnibnptfg', 'pres', 'trump', 'arriving', 'apec', 'conference', 'httpsyoutubetvrgds3hdlu', 'trumptv', 'weekly', 'update', 'lara', 'httpsyoutuber8p7xrmhpzg', 'pres', 'trump', 'clip', 'apec', 'dinner', 'httpsyoutubejlgkbuzpuu8', 'httpsyoutube4ve5k3yibcs', 'pres', 'trump', 'arriving', 'apec', 'dinner', 'httpsyoutuberwevxdjfra', 'pres', 'trump', 'apec', 'dinner', 'full', 'httpsyoutube7tfzlqvdr0', '2hr', 'httpsyoutubesu32dedlymw', '4hr', 'flotus', 'melania', 'meeting', 'service', 'member', 'family', 'alaska', 'httpsyoutubeaenyu6d8qk0', 'httpsyoutubeczadgkqs9s', 'decorating', 'httpsyoutubettrrbwbkphk', 'putty', 'httpsyoutubefomesbhfm6u', 'kazoo', 'op', 'pastebin', 'httppastebincomnygxu29r', 'prev']\n",
      "['i\\xe2\\x80\\x99ve', 'extremely', 'dismayed', 'read', 'much', 'rape', 'culture', 'woman', 'girl', 'treated', 'men', 'boy', 'raised', 'i\\xe2\\x80\\x99ve', 'read', 'much', 'teach', 'boy', 'visavis', 'girl', 'woman', 'usually', 'agree', 'yet', 'read', 'little', 'simply', 'raise', 'emotionally', 'evolvedaware', 'conscious', 'respectful', 'othersandwellversed', 'consent', 'others', 'sometimes', 'feel', 'left', 'dark', 'face', 'absolutely', 'determined', 'part', 'around', 'raising', 'boy', 'proud', 'aware', 'others\\xe2\\x80\\x99', 'boundary', 'curious', 'questioning', 'world', 'think', 'begin', 'one', 'child', 'time', 'sometimes', 'one', 'bath', 'time', 'bath', 'day', 'three', 'year', 'old', 'said', '\\xe2\\x80\\x9cmama', 'stretch', 'i\\xe2\\x80\\x9dll', 'touch', 'vulva\\xe2\\x80\\x9d', 'said', '\\xe2\\x80\\x9ci', 'don\\xe2\\x80\\x99t', 'really', 'want', 'touch', 'vulva', 'besides', 'need', 'ask', 'like', 'someone', 'wanted', 'touch', 'penis', 'ask', 'touch', 'penis\\xe2\\x80\\x9d', '\\xe2\\x80\\x9cdo', 'it\\xe2\\x80\\x9d', '\\xe2\\x80\\x9cdo', 'what\\xe2\\x80\\x9d', 'three', 'yearold', 'slightly', 'exasperated', '\\xe2\\x80\\x9csay', 'touch', 'penis\\xe2\\x80\\x9d', 'slightly', 'slow', 'uptake', 'suddenly', 'dawned', '\\xe2\\x80\\x9cyou', 'want', 'ask', 'touch', 'penis\\xe2\\x80\\x9d', '\\xe2\\x80\\x9cyes\\xe2\\x80\\x9d', 'unusual', 'request', 'decided', 'go', '\\xe2\\x80\\x9ccan', 'touch', 'penis\\xe2\\x80\\x9d', 'asked', '\\xe2\\x80\\x9cyes\\xe2\\x80\\x9d', 'reach', 'touch', 'one', 'second', 'pause', 'say', '\\xe2\\x80\\x9cmama', 'penis', 'sensitive\\xe2\\x80\\x9d', 'nod', '\\xe2\\x80\\x9cyeah', 'vulva', 'sensitive', 'sometimes', 'breast', 'nipple', 'also', 'sensitive\\xe2\\x80\\x9d', 'face', 'light', '\\xe2\\x80\\x9cdo', 'want', 'touch', 'boobies\\xe2\\x80\\x9d', 'asks', 'place', 'finger', 'little', 'nipple', '\\xe2\\x80\\x9cokay', 'actually', 'nipples\\xe2\\x80\\x9d', '\\xe2\\x80\\x9cdo', 'want', 'touch', 'nipples\\xe2\\x80\\x9d', 'touch', 'one', 'lightly', '\\xe2\\x80\\x9cdo', 'want', 'touch', 'one\\xe2\\x80\\x9d', 'touch', 'one', 'lightly', 'smile', 'smile', 'want', 'play', 'wrongway', 'whale', 'thrash', 'around', 'tub']\n",
      "['much', 'money', 'would', 'need', 'longer', 'fear', 'fired', 'job', 'ostracized', 'stock', 'trading', 'property', 'crypto', 'etc', 'due', 'racist', 'opinion', 'political', 'view']\n",
      "['western', 'country', 'first', 'see', 'breakdown', 'law', 'order', 'im', 'talking', 'civil', 'war', 'ethnic', 'cleansing', 'stuff', 'feel', 'like', 'inevitable', 'question', 'first', 'rise', 'money', 'french']\n",
      "['cnn', 'interview', 'richard', 'spencer', 'said', 'fuddy', 'duddy', 'conservative', 'go', 'bed', '9pm', 'warm', 'glass', 'milk', 'like', 'party', 'like', 'fun', 'joke', 'richard', 'spencer', 'endorse', 'partying', 'partying', 'probably', 'degenerate', 'thing', 'world', 'party', 'people', 'get', 'intoxicated', 'people', 'drink', 'alcohol', 'sex', 'although', 'named', 'two', 'degenerate', 'thing', 'plenty', 'go', 'would', 'richard', 'spencer', 'brag', 'behaviour', 'httpswwwyoutubecomwatchvn2xrz2w7fi']\n",
      "['come', 'arent', 'mgtow', 'pol', 'recent', 'scandal', 'proving', 'right', 'know']\n",
      "['pol', 'state', 'best', 'money', 'massachusetts', 'born', 'raised', 'boston', 'live', 'chicago', 'shithole']\n",
      "['party', 'reagan', 'anymore']\n",
      "['china', 'soon', 'world', 'economy', 'wise', 'china', 'reach', 'position', 'would', 'without', 'war', 'thing', 'really', 'high', 'population', 'world', 'chinese', 'youngster', 'studying', 'abroad', 'occupying', 'every', 'university', 'across', 'globe', 'especially', 'usa', 'mostly', 'staying', 'abroad', 'chinese', 'family', 'tradition', 'chinese', 'company', 'top', 'notch', 'nowadays', 'huaweii', 'tencent', 'etc', 'china', 'opened', 'second', 'silkroad', 'china', 'getting', 'expensive', 'wealth', 'going', 'salary', 'huge', 'china', 'dont', 'let', 'foreigner', 'work', 'china', 'rather', 'dont', 'treat', 'special', 'snowflake', 'huge', 'ghost', 'city', 'think', 'future', 'population', 'even', 'bigger', 'longer', '1child', 'policy', 'lower', 'class', 'middle', 'class', 'uprising', 'china', 'take', 'shit', 'foreigner']\n",
      "['saying', 'rightwing', 'party', 'banned', 'mean', 'extreme', 'hate', 'speech', 'like', 'example', 'william', 'luther', 'pierce', 'said', 'really', 'hateful', 'thing', 'fully', 'allowed', 'american', 'constitution', 'thing', 'said', 'black', 'people', 'human', 'subhuman', 'animal', 'queer', 'transvestite', 'extreme', 'degenerate', 'deserve', 'hung', 'haiti', 'prosperous', 'caribbean', 'island', 'black', 'subhumans', 'took', 'french', 'law', 'order', 'replaced', 'despotism', 'savagery', 'last', 'one', 'isnt', 'exact', 'quote', 'found', 'httpswwwyoutubecomwatchvhmjlh3qcngm', 'question', 'type', 'speech', 'banned', 'considering', 'america', 'fully', 'legal']\n",
      "['whats', 'wrong', 'white', 'dude', 'white', 'wife', 'ton', 'fucking', 'white', 'kid', 'rarely', 'poverty', 'ton', 'fucking', 'gun', 'stockpile', 'ammo', 'enough', 'food', 'last', 'apocalypse', 'weve', 'federal', 'government', 'since', 'day', 'one', 'know', 'one', 'day', 'turn', 'back', 'happening', 'happens', 'utah', 'safe', 'along', 'northern', 'texas', 'county', 'near', 'utah', 'filled', 'mormon', 'reason', 'let', 'black', 'people', 'priesthood', 'didnt', 'want', 'get', 'sued', 'someone', 'dont', 'pope', 'thats', 'cuck', 'let', 'faggot', 'gay', 'arent', 'prolgbt', 'vast', 'majority', 'white']\n",
      "['stadium', 'white', 'hoe', 'look', 'like', 'shes', 'drunk', 'one', 'another', 'reason', 'cop', 'taking', 'attack', 'nigger', 'cop', 'slap', 'dindu', 'reacts', 'punch', 'putting', 'white', 'bitch', 'sleep', 'muthafucka', 'race', 'war', 'continues', 'webm', 'video', 'related', 'httpswwwyoutubecomwatchv4x8eotc6v4']\n",
      "['httpwwwdwcomenartistrosemariekoczyfakedherholocaustsurvivorsstorya41301763', 'oy', 'vey', 'another', 'fake', 'survivor', 'sold', 'story', 'year']\n",
      "['tsar', 'nicholai', 'gorbatschow', 'putin', 'russian', 'based', 'race']\n",
      "['dropped', 'pretence', 'arent', 'even', 'trying', 'subtle', 'httpswwwyoutubecomwatchvkfasxiklsle', 'httpswwwyoutubecomwatchvfynhzfyp3ts', 'httpswwwyoutubecomwatchvjw1yzhquru', 'httpswwwyoutubecomwatchvqsukauruu1i']\n",
      "['sex', 'male', 'age', 'height', '5ft', '11in', 'weight', '158lbs', 'sex', 'female', 'age', 'height', '5ft', '7in', 'weight', '133lbs', 'sex', 'male', 'age', 'height', '5ft', '10in', 'weight', '211lbs', 'sex', 'male', 'age', 'height', '6ft', '3in', 'weight', '228lbs', 'sex', 'female', 'age', 'height', '5ft', '7in', 'weight', '150lbs', 'sex', 'female', 'age', 'height', '5ft', '2in', 'weight', '129lbs', 'sex', 'male', 'age', 'height', '5ft', '8in', 'weight', '145lbs']\n",
      "['pol', 'think', 'trump', 'far', 'think', 'well', 'ha', 'kept', 'border', 'wall', 'promise', 'ha', 'reduced', 'illegal', 'immigration', 'drastically', 'going', 'pas', 'decent', 'tax', 'cut', 'bill', 'ha', 'deregulated', 'president', 'least', 'year', 'talking', 'president', 'coolidge', 'year', 'prowhite', 'implicitly', 'supported', 'raise', 'act', 'banned', 'trannies', 'military', 'unfortunately', 'syria', 'strike', 'shit', 'think', 'well']\n",
      "['year', 'ago', 'idea', 'welled', 'bursting', 'placid', 'water', 'western', 'civility', 'public', 'discourse', 'whole', 'revolutionary', 'candidate', 'donald', 'trump', 'mr', 'trump', 'rising', 'putrid', 'water', 'entertainment', 'celebrity', 'acted', 'swiftly', 'branded', 'rhino', 'defanged', 'fat', 'cat', 'lobbyist', 'finally', 'extirpated', 'hillary', 'clinton', 'really', 'believe', 'may', 'found', 'answer', 'lady', 'gentleman', 'enjoy', 'fruit', 'research', 'solely', 'communicate', 'emitting', 'shrill', 'screetchs', 'war', 'cry', 'alert', 'prey', 'presence', 'gather', 'ravenous', 'ally', 'support', 'left', 'trail', 'body', 'efficient', 'killing', 'getting', 'away', 'afterwards', 'cannot', 'tolerate', 'heat', 'sunlight', 'lest', 'forget', 'left', '5min', 'similar', 'taxonomy', 'likely', 'indicating', 'single', 'ancestor', 'feed', 'weak', 'sense', 'smell', 'acute', 'attack', 'vunerable', 'hillary', 'clinton', 'demogorgon']\n",
      "['feel', 'like', 'pol', 'idea', 'quality', 'traditional', 'woman', 'lining', 'right', 'outside', 'door', 'marry', 'evil', 'kike', 'hollywood', 'showed', 'picture', 'white', 'woman', 'kissing', 'black', 'guy', 'reality', 'see', 'trashy', 'fat', 'white', 'woman', 'ghetto', 'hoodrats', 'total', 'college', 'slut', 'black', 'boyfriend', 'seems', 'like', 'woman', 'race', 'mix', 'first', 'place', 'ready', 'fucked', 'mental', 'level', 'race', 'mixing', 'visual', 'representation', 'woman', 'relationship', 'black', 'guy', 'already', 'tell', 'worth', 'time', 'maybe', 'thank', 'brother', 'helping', 'weed', 'roasties']\n",
      "['pol', 'think', 'vaccine', 'safe']\n",
      "['remember', 'cocky', 'acted', 'got', 'jail', 'time', 'yr', 'deserved']\n",
      "['hey', 'pol', 'white', 'goy', 'understand', 'jew', 'control', 'medium', 'banking', 'pentagon', 'etc', 'understand', 'caused', 'financial', 'crash', 'promote', 'sexual', 'degeneracy', 'marxism', 'hated', 'scorned', 'question', 'sincere', 'question', 'im', 'looking', 'answer', 'take', 'jew', 'israel', 'devoutly', 'religious', 'hate', 'sexual', 'degeneracy', 'ethical', 'tell', 'truth', 'hate', 'jew', 'im', 'basically', 'point', 'hate', 'global', 'cabal', 'hitler', 'spoke', 'think', 'skin', 'head', 'neonazis', 'basically', 'another', 'trap', 'jewish', 'elite', 'tldr', 'hate', 'jewish', 'elite', 'hate', 'jewish', 'pleb', 'friend', 'jewish', 'guy', 'smoke', 'weed', 'play', 'guitar', 'doesnt', 'bother', 'anyone', 'hate']\n",
      "['would', 'like', 'take', 'moment', 'thank', 'whoever', 'designed', 'disease', 'bill', 'gate', 'maybe', 'saving', 'west', 'extension', 'world', 'uruk', 'horde']\n",
      "['fella', 'make', 'pipe', 'bomb', 'fella', 'get', 'conscience', 'give', 'bomb', 'friend', 'avoid', 'committing', 'crime', 'police', 'get', 'anon', 'tip', 'weapon', 'mass', 'destruction', 'gas', 'water', 'heater', 'gas', 'fireplace', 'bomb', 'going', 'couldve', 'set', 'chain', 'reaction', 'httpwwwwsoctvcomnewslocalcharlotteairtrafficcontrollerarrestedforhavingweaponofmassdestruction645308150']\n",
      "['guy', 'gave', 'arm', 'honor', 'dont', 'wish', 'fuck', 'army', 'bunch', 'fag']\n",
      "['stefan', 'likely', 'literal', 'genius']\n",
      "['need', 'source', 'swedish', 'rape', 'statistic', 'german', 'crime', 'statistic', 'race', 'im', 'drinking', 'lefty', 'moment', 'need', 'help']\n",
      "['rhodesia', 'declared', 'independence', 'britain', 'year', 'ago', 'today', 'time', 'wa', 'httpswwwyoutubecomwatchvt4zc7brwnhi']\n",
      "['looking', 'stats', 'apparently', 'scandinaviantier', 'living', 'standard', 'wich', 'begs', 'question', 'white']\n",
      "['independent', 'memer', 'question', 'conservative', 'pol', 'could', 'please', 'tell', 'believe', 'donald', 'trump', 'accomplished', 'thus', 'far', 'presidency', 'im', 'trying', 'bait', 'cause', 'argument', 'im', 'research', 'pet', 'project', 'mine', 'im', 'trying', 'gather', 'opinion', 'side', 'aisle', 'trump', 'presidency', 'efficacy', 'date', 'wouldnt', 'much', 'trouble', 'could', 'answer', 'couple', 'question', 'honestly', 'feel', 'state', 'gop', 'party', 'compared', 'believe', 'donald', 'trump', 'action', 'thus', 'far', 'permanence', 'likely', 'last', 'long', 'hehis', 'supporter', 'remain', 'power', 'believe', 'nation', 'international', 'diplomatic', 'status', 'improved', 'regressed', 'compared', 'state', 'word', 'would', 'summarize', 'donald', 'trump', 'accomplished', 'first', 'year', 'president', 'area', 'would', 'consider', 'failure', 'rather', 'accomplishment', 'naturally', 'arent', 'question', 'rest', 'arent', 'really', 'worth', 'asking', 'anonymous', 'board']\n",
      "['living', 'canada', 'life', 'general', 'stereotype', 'sorry', 'sorry', 'sorry', 'true', 'others', 'wrong']\n",
      "['prophecy', 'coming', 'true']\n",
      "['someone', 'pointed', 'day', 'cant', 'figure', 'hell', 'going']\n",
      "['need', 'leave', 'woman', 'child', 'alone', 'literally', 'never', 'anything', 'literally', 'mad', 'people', 'love', 'none', 'business', 'woman', 'decides', 'marry']\n",
      "['afraid', 'almighty', 'slavic', 'warrior']\n",
      "['part', 'anons']\n",
      "['secular', 'christian', 'way', 'secular', 'jew', 'would', 'general', 'opinion', 'someone', 'doesnt', 'quite', 'believe', 'christian', 'god', 'also', 'doesnt', 'deny', 'exsistence', 'personally', 'cant', 'bring', 'total', 'faith', 'doesnt', 'stop', 'defending', 'chstianity', 'spreading', 'word', 'lord', 'often', 'people', 'life', 'think', 'im', 'christian', 'possible', 'make', 'christianity', 'sort', 'identity', 'rather', 'religion']\n",
      "['girl']\n",
      "['discord', 'yshxtn9', 'daily', 'reminder', 'natsocs', 'still', 'socialist']\n",
      "['spot', 'bluepilled', 'cuck', 'ask', 'question', 'discovered', 'year', 'old', 'child', 'would', 'still', 'raise', 'yes', 'cuck', 'mentality', 'sane']\n",
      "['dak']\n",
      "['basic', 'dumbfuck', 'raised', 'pornhub', 'pill', 'good', 'following', 'order', 'killing', 'people', 'join', 'military', 'get', 'paid', 'legally', 'kill', 'people', 'life', 'rest', 'life', 'wellfare', 'state', 'brag', 'protecting', 'freedom', 'lol', 'wont', 'shut', 'fuck', 'muh', 'friend', 'left', 'die', 'muh', 'missing', 'limb', 'really', 'need', 'entire', 'day', 'devoted', 'sanctimonious', 'crybabbies']\n",
      "['redpill', 'experience', 'mine', 'music', 'video', 'like', 'one', 'httpswwwyoutubecomwatchv6pgljak23w']\n",
      "['christ', 'many', 'pollies', 'turn', 'secretly', 'british']\n",
      "['bias', 'incident', 'prevention', 'response', 'coordinator', 'report', 'assistant', 'dean', 'student', 'responsible', 'function', 'including', 'coordination', 'bias', 'response', 'team', 'providing', 'direct', 'support', 'service', 'student', 'concern', 'crisis', 'serving', 'team', 'responsible', 'providing', 'support', 'resource', 'referral', 'student', 'concern', 'contributing', 'function', 'dean', 'student', 'office', 'support', 'administrative', 'student', 'support', 'crisis', 'management', 'function', 'bias', 'incident', 'prevention', 'response', 'coordinator', 'sustains', 'expands', 'upon', 'current', 'student', 'life', 'dei', 'initiative', 'engages', 'effective', 'practice', 'intended', 'support', 'student', 'experiencing', 'bias', 'challenge', 'associated', 'campus', 'climate', 'seems', 'like', 'perfect', 'job', 'average', 'polack', 'put', 'application', 'rest', 'fuck', 'cucks', 'bias', 'incident', 'reporting', 'form', 'httpsumichadvocatesymplicitycomcarereportindexphppid476074']\n",
      "['vote', 'clinton', 'jew', 'win', 'whats', 'even', 'point']\n",
      "['end', 'game', 'httpswwwdailystarcouknewsweirdnews659252chinaxijinpingspacealiensufoweirdnewsasialiucixin']\n",
      "['sickening', 'fsu', 'ban', 'greek', 'life', 'httpswwwgooglecomampwwwmypalmbeachpostcomnewssuspensiongreeklifefsutoomuchtoolittlekig14tuw7pkeg0bc5g1idiamphtml', 'neomarxist', 'article', 'deatroying', 'greek', 'life', 'make', 'men', 'governable', 'httpdailytrojancom20160203inlightofstructuralinequitybangreeklife', 'stop', 'direct', 'assault', 'american', 'culture', 'step', 'towards', 'achieving', 'total', 'pussification', 'men', 'society', 'ban', 'greek', 'life', 'castrate', 'young', 'men', 'looking', 'engage', 'natural', 'human', 'male', 'activity', 'end', 'goal', 'destroy', 'concept', 'boy', 'completely', 'degenerate', 'american', 'man', 'kek', 'big', 'news']\n",
      "['think', 'lot', 'white', 'people', 'even', 'gen', 'z', 'youngings', 'still', 'used', 'seeing', 'america', 'white', 'nation', 'happens', 'dawn', 'changed', 'happens', 'politics', 'medium', 'culture', 'overwhelmingly', 'shitskin', 'feel', 'like', 'racial', 'polarization', 'kick', 'white', 'grow', 'racist', 'good', 'thing', 'right', 'danger', 'white', 'people', 'shifting', 'hard', 'racism', 'fault', 'regressive', 'left', 'ask', 'pol', 'keep', 'white', 'sliding', 'back', '1950s', 'style', 'racism', 'study', 'worry', 'alot', 'httparchiveisgfn87']\n",
      "['link', 'german', 'httpwwwfocusderegionalberlintierquaelereiinberlinjungermannmissbrauchtponysexuellbabysitterinundkindmuessenallesmitansehenid7832758html', 'httpswwwmorgenpostdeberlinpolizeiberichtarticle212502451jungermannvergehtsichsexuellanponyimgoerlitzerparkhtml', 'link', 'english', 'httpswww10newsonesyrianrefugeearrestedforrapingponyatchildrenszoo']\n",
      "['well']\n",
      "['httpswwwmsncomenusnewspoliticspodestagrouponthevergeofshutteringamidtiestomuellerprobearbbeqxy1libbmkt5rocidspartanntp', 'podesta', 'group', 'btfo', 'pol', 'slueths', 'outta', 'business', 'end', 'yearpack', 'desksjpeg', 'may', 'never', 'go', 'prison', 'theyll', 'wish', 'theyd', 'never', 'incurred', 'wrath', 'pol']\n",
      "['\\xe2\\x80\\x93youre', 'man', 'look\\xc4\\xa9ng', 'dhe', 'world', 'k\\xc4\\x93\\xc8\\xb3hole', '\\xe2\\x80\\x93i', '\\xc5\\x84eed', 'f\\xc3\\xaaminism', 'bec\\xc3\\xa2\\xc3\\xbbse', 'im', 'tired', 'feel\\xc4\\xa9ng', 'unmanly', 'enjoy\\xc4\\xa9ng', 'girlfriend', 's\\xc5\\xa5rapon']\n",
      "['lawfags', 'speak', 'legality', 'exposing', 'child', 'nked', 'adult', 'legal', 'shouldnt', 'people', 'getting', 'charged', 'form', 'sexual', 'assault', 'minor', 'like', 'somebody', 'ran', 'front', 'kid', 'flashed', 'dick', 'would', 'arrested', 'different', 'post', 'like', 'pic', 'related', 'fact', 'illegal', 'could', 'take', 'shit', 'like']\n",
      "['proof', 'collusion', 'found', 'httpsyoutubegsf9u2abtfk', 'cnn', 'wapo', 'soon']\n",
      "['remember', 'watching', 'grandpa', 'heidi', 'biene', 'maja', 'pippi', 'langstrumpf', 'home', 'loving', 'beautiful', 'traditionalist', 'feel', 'feel', 'sad', 'everything', 'like', 'slowly', 'going', 'away', 'germany', 'beautiful', 'til', 'feel', 'like', 'mid', '2000s', 'itt', 'turned', 'shit', 'literally', 'mean', 'goddamn', 'iphone', 'released', 'made', 'refugee', 'see', 'germany', 'good', 'target', 'immigrate', 'made', 'disgusting', 'turkish', 'rap', 'culture', 'spread', 'amongst', 'teen', 'book', 'long', 'stuff', 'sped', 'degeneration', 'culture', 'maybe', 'necessary', 'sacrifice', 'make', 'internet', 'young', 'people', 'getting', 'redpilled', 'even', 'fucking', '9gag', 'see', 'pol', 'meme', 'torn', 'apart', 'excited', 'future', 'sad', 'current', 'state', 'country', 'multicultural', 'acceptance', 'youth', 'want', 'good', 'old', 'day', 'back', 'httpswwwyoutubecomwatchvpu7mjod0o0y', 'httpswwwyoutubecomwatchvpu7mjod0o0y']\n",
      "['propose', 'set', 'income', 'tax', 'percent', 'way', 'would', 'responsibility', 'state', 'look', 'everyoneall', 'wealth', 'would', 'evenly', 'distributed', 'people', 'united', 'kingdom', 'refugee', 'want', 'come', 'everyone', 'agrees', 'tax', 'facilitate', 'transfer', 'wealth', '\\xe2\\x80\\x9chave\\xe2\\x80\\x9d', '\\xe2\\x80\\x9cneed\\xe2\\x80\\x9d', 'read', 'whole', 'article', 'httpwwwgulagiancomaonehundredpercentincometax']\n",
      "['read', 'section']\n",
      "['showa', 'ultranationalism', 'coming', 'back', 'scary', 'httpswwwyoutubecomwatchvesxnv1ksmqq', 'httpswwwyoutubecomwatchvihjsocaresg', 'httpswwwyoutubecomwatchvr6zixuye1t8', 'httpswwwyoutubecomwatchvnj6w3atgzai']\n",
      "['pol', 'starter', 'pack']\n",
      "['youre', 'saying', 'lgbtq', 'movement', 'nothing', 'pedophile', 'think']\n",
      "['it\\xe2\\x80\\x99s', 'hard', 'admit', 'pol', 'feminist', 'kind', 'right', 'rape', 'culture', 'look', 'honestly', 'coming', 'decade', 'ton', 'powerful', 'men', 'sexually', 'assaulting', 'harassing', 'woman', 'men', 'repeat', 'offender', '\\xe2\\x80\\x9copen', 'secret\\xe2\\x80\\x9d', 'imagine', 'you\\xe2\\x80\\x99re', 'one', 'woman', 'happened', 'everyone', 'industry', 'know', 'happened', 'happen', 'woman', 'yet', 'say', 'nothing', 'continue', 'associate', 'person', 'victimized', 'wouldn\\xe2\\x80\\x99t', 'behavior', 'part', 'tacit', 'acceptance', 'behavior', 'predator', 'constitute', 'dare', 'say', 'rape', 'culture']\n",
      "['httpswwwgooglecaampwwwnydailynewscomampopinionjapansafegunsarticle11223065', 'gangster', 'extremely', 'unlikely', 'sell', 'gun', 'non', 'gangster', 'due', 'risk', 'mass', 'shooting', 'happening', 'bringing', 'much', 'attention', 'gang', 'let', 'alone', 'chance', 'emo', 'want', 'shoot', 'school', 'whatever', 'know', 'buy', 'black', 'market', 'gun', 'somehow', 'knowledge', 'resource', 'make', 'one', 'bomb', 'precisely', 'england', 'australia', 'mexico', 'brazil', 'venezuela', 'many', 'modern', 'guncontrol', 'nation', 'amazing', 'safe', 'today', 'check', 'mate', 'ameriburgers', 'going', 'give', 'gun', 'join', 'current', 'year', 'like', 'mexico']\n",
      "['nice', 'try', 'establishment', 'republican', 'tactic', 'doesnt', 'work', 'anymore', 'make', 'wonder', 'next', 'tactic', 'realize']\n"
     ]
    },
    {
     "name": "stderr",
     "output_type": "stream",
     "text": [
      "C:\\Users\\Julie\\Anaconda\\lib\\site-packages\\ipykernel_launcher.py:29: UnicodeWarning: Unicode equal comparison failed to convert both arguments to Unicode - interpreting them as being unequal\n"
     ]
    },
    {
     "name": "stdout",
     "output_type": "stream",
     "text": [
      "0       [board, discussion, news, world, event, politi...\n",
      "424     [come, armenian, dominant, haplogroup, western...\n",
      "548     [ϟϟ, eternal, struggle, eternal, growth, ϟϟ, n...\n",
      "802     [teacher, brainwashing, child, thinking, bad, ...\n",
      "1188    [guy, know, fucking, retarded, sound, seriousl...\n",
      "1329    [president, donald, j, trump, httpswwwwhitehou...\n",
      "1561    [httpswwwyoutubecomwatchva4jxhhxhwya, talk, hi...\n",
      "1722    [thread, theme, httpsyoutubeyg3tchbzs, nationa...\n",
      "1802                   [thought, httpsyoutubeu0nwiwacll8]\n",
      "1923    [year, old, daughter, event, mike, wouldnt, le...\n",
      "1958    [starting, hate, nazi, clear, theyre, autistic...\n",
      "2501    [fear, potential, much, westerner, want, fail,...\n",
      "2797                                 [happens, lose, guy]\n",
      "2845    [trying, turn, tay, white, supremacist, look, ...\n",
      "2937                                        [sweden, yes]\n",
      "2975    [httpspastebinca3930472, updated, qrd, summary...\n",
      "3191    [anyone, seen, debate, literally, hour, comple...\n",
      "3433    [httpswwwyoutubecomwatchvaypeagy9eg, httpswwwy...\n",
      "3443    [show, love, king, pol, gone, enough, mj, jew,...\n",
      "3622    [jesus, christ, bob, mueller, please, hero, ne...\n",
      "3747    [hey, pol, im, year, old, black, guy, looking,...\n",
      "4161    [prev, thread, give, advice, person, strugglin...\n",
      "4514    [time, next, one, guy, httpswwwyoutubecomwatch...\n",
      "4557    [httpwwwocweeklycomnewsaremexicanswhite6426421...\n",
      "4565    [archivestudyresearchlibrary, syriageneralswor...\n",
      "5002    [thread, whose, coming, age, current, youre, o...\n",
      "5205                    [commie, statist, cucks, compete]\n",
      "5242    [post, oc, request, drawfags, present, thread,...\n",
      "5884                                       [explain, pol]\n",
      "5905    [kept, miscengating, amerindian, formed, mongr...\n",
      "6205    [listening, girlfriend, bitch, objectification...\n",
      "6239    [need, repeal, polish, potato, order, england,...\n",
      "6241    [three, different, instance, theft, china, nai...\n",
      "6679    [give, rest, credit, revolutionarycivil, war, ...\n",
      "6763    [okay, issue, christianity, universalist, reli...\n",
      "7195    [trump, said, belief, putin, told, russia, ele...\n",
      "7249    [president, donald, j, trump, httpswwwwhitehou...\n",
      "7555    [i’ve, extremely, dismayed, read, much, rape, ...\n",
      "7752    [much, money, would, need, longer, fear, fired...\n",
      "7785    [western, country, first, see, breakdown, law,...\n",
      "8361    [cnn, interview, richard, spencer, said, fuddy...\n",
      "8366    [come, arent, mgtow, pol, recent, scandal, pro...\n",
      "8633    [pol, state, best, money, massachusetts, born,...\n",
      "8912                             [party, reagan, anymore]\n",
      "8914    [china, soon, world, economy, wise, china, rea...\n",
      "8984    [saying, rightwing, party, banned, mean, extre...\n",
      "9079    [whats, wrong, white, dude, white, wife, ton, ...\n",
      "9115    [stadium, white, hoe, look, like, shes, drunk,...\n",
      "9169    [httpwwwdwcomenartistrosemariekoczyfakedherhol...\n",
      "9431    [tsar, nicholai, gorbatschow, putin, russian, ...\n",
      "Name: Comment_split, dtype: object\n"
     ]
    }
   ],
   "source": [
    "# clean up Comment_split column:\n",
    "\n",
    "# drop N/A values\n",
    "df = df.dropna()\n",
    "\n",
    "# define function to remove integers from lists\n",
    "def rm_integer( list ):\n",
    "    \n",
    "    print(list)\n",
    "    newlist = []\n",
    "        \n",
    "    for s in list:\n",
    "        if (s.isdigit() or (s[0] == '-' and s[1:].isdigit())):\n",
    "            continue\n",
    "        else:\n",
    "            newlist.append(s)\n",
    "    \n",
    "    return newlist\n",
    "    \n",
    "# apply remove-integer function to dataframe column\n",
    "df['Comment_split'] = df['Comment_split'].apply(rm_integer)\n",
    "\n",
    "#define function to remove common words from lists\n",
    "from nltk.corpus import stopwords\n",
    "def rm_commonwords(list) :\n",
    "    addl_words_to_remove = [\"u\",\"it\"]\n",
    "    newlist = [ ]\n",
    "    for s in list:\n",
    "        if s in stopwords.words('english'):\n",
    "            continue\n",
    "        elif s in addl_words_to_remove:\n",
    "            continue\n",
    "        else:\n",
    "            newlist.append(s)\n",
    "            \n",
    "    return newlist\n",
    "    \n",
    "#apply remove common words function to dataframe column\n",
    "df['Comment_split'] = df['Comment_split'].apply(rm_commonwords)\n",
    "print (df['Comment_split'].head(50))"
   ]
  },
  {
   "cell_type": "code",
   "execution_count": 113,
   "metadata": {
    "collapsed": true
   },
   "outputs": [],
   "source": [
    "# Importing Gensim (see tutorial)\n",
    "import gensim\n",
    "from gensim import corpora\n",
    "\n",
    "# Creating the term dictionary of our courpus, where every unique term is assigned an index.\n",
    "dictionary = corpora.Dictionary(df['Comment_split'])\n",
    "\n",
    "# Converting list of documents (corpus) into Document Term Matrix using dictionary prepared above.\n",
    "doc_term_matrix = [dictionary.doc2bow(doc) for doc in df['Comment_split']]\n",
    "\n"
   ]
  },
  {
   "cell_type": "code",
   "execution_count": 123,
   "metadata": {
    "collapsed": true
   },
   "outputs": [],
   "source": [
    "# Do Topic Modeling (see tutorial)\n",
    "# Creating the object for LDA model using gensim library\n",
    "Lda = gensim.models.ldamodel.LdaModel\n",
    "\n",
    "# Running and Trainign LDA model on the document term matrix.\n",
    "ldamodel = Lda(doc_term_matrix, num_topics=10, id2word = dictionary, passes=50)"
   ]
  },
  {
   "cell_type": "code",
   "execution_count": 124,
   "metadata": {
    "collapsed": true
   },
   "outputs": [],
   "source": [
    "# print output\n",
    "topics = (ldamodel.print_topics(num_topics=10, num_words=4))"
   ]
  },
  {
   "cell_type": "code",
   "execution_count": 122,
   "metadata": {},
   "outputs": [
    {
     "name": "stdout",
     "output_type": "stream",
     "text": [
      "0.011*\"like\" + 0.011*\"white\" + 0.011*\"feel\" + 0.006*\"make\"\n",
      "0.009*\"think\" + 0.009*\"woman\" + 0.009*\"rape\" + 0.009*\"ha\"\n",
      "0.015*\"trump\" + 0.010*\"board\" + 0.010*\"x\" + 0.010*\"believe\"\n",
      "0.020*\"touch\" + 0.011*\"student\" + 0.009*\"want\" + 0.008*\"one\"\n",
      "0.013*\"–\" + 0.009*\"via\" + 0.005*\"would\" + 0.005*\"like\"\n",
      "0.029*\"pres\" + 0.026*\"trump\" + 0.013*\"apec\" + 0.011*\"ᛉ\"\n",
      "0.013*\"american\" + 0.009*\"even\" + 0.007*\"never\" + 0.007*\"nigger\"\n",
      "0.015*\"white\" + 0.012*\"people\" + 0.007*\"im\" + 0.007*\"want\"\n",
      "0.013*\"woman\" + 0.010*\"like\" + 0.010*\"white\" + 0.008*\"race\"\n",
      "0.004*\"pol\" + 0.004*\"turn\" + 0.004*\"money\" + 0.004*\"fuck\"\n"
     ]
    }
   ],
   "source": [
    "for key, val in topics:\n",
    "    print(val.encode('utf-8'))"
   ]
  },
  {
   "cell_type": "code",
   "execution_count": null,
   "metadata": {
    "collapsed": true
   },
   "outputs": [],
   "source": []
  }
 ],
 "metadata": {
  "kernelspec": {
   "display_name": "Python 2",
   "language": "python",
   "name": "python2"
  },
  "language_info": {
   "codemirror_mode": {
    "name": "ipython",
    "version": 2
   },
   "file_extension": ".py",
   "mimetype": "text/x-python",
   "name": "python",
   "nbconvert_exporter": "python",
   "pygments_lexer": "ipython2",
   "version": "2.7.14"
  }
 },
 "nbformat": 4,
 "nbformat_minor": 2
}
