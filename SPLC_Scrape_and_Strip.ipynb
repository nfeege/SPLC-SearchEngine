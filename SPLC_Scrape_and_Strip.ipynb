{
 "cells": [
  {
   "cell_type": "markdown",
   "metadata": {},
   "source": [
    "## Clean Scraping Results"
   ]
  },
  {
   "cell_type": "markdown",
   "metadata": {},
   "source": [
    "### 1. Read in raw scraped files from directory\n",
    "### 2. Strip HTML with BeautifulSoup\n",
    "### 3. Named Entitiy Recognition (https://spacy.io/usage/linguistic-features#named-entities)\n",
    "### 4. Remove special characters, unicode, punctuation and prep for NLP\n",
    "#### Created by Jackie Weiser"
   ]
  },
  {
   "cell_type": "markdown",
   "metadata": {},
   "source": [
    "##### Command Line scraping script\n",
    "```wget --mirror --random-wait --follow-tags=a -L --level=2 --input-file=RawUrls.txt --tries=2 --timeout=30```"
   ]
  },
  {
   "cell_type": "code",
   "execution_count": 1,
   "metadata": {
    "collapsed": false
   },
   "outputs": [],
   "source": [
    "import os, re, string\n",
    "from bs4 import BeautifulSoup\n",
    "from bs4.element import Comment"
   ]
  },
  {
   "cell_type": "code",
   "execution_count": 2,
   "metadata": {
    "collapsed": true
   },
   "outputs": [],
   "source": [
    "# spacy is used for Part of Speech tagging and Named Entity Recognition\n",
    "# spacy is a non-standard python library which can be installed using 'pip install spacy' from the command line\n",
    "# language models can be downloaded by running 'python -m spacy download <language>' from the command line\n",
    "import spacy\n",
    "language = 'en'\n",
    "nlp_model  = spacy.load('en')\n",
    "    \n",
    "def get_entities(text):\n",
    "    \n",
    "    doc = nlp_model(text)\n",
    "    labels = [{ent.text:ent.label_} for ent in doc.ents]\n",
    "\n",
    "    return labels"
   ]
  },
  {
   "cell_type": "code",
   "execution_count": 96,
   "metadata": {
    "collapsed": true
   },
   "outputs": [],
   "source": [
    "path_to_docs = '../SPLC_Scrape_Results/'\n",
    "output_clean = 'clean_scraped_text/clean_scraped_text.txt'"
   ]
  },
  {
   "cell_type": "code",
   "execution_count": 86,
   "metadata": {
    "collapsed": false
   },
   "outputs": [],
   "source": [
    "def stripTags(text):\n",
    "    scripts = re.compile(r'<script.*?/script>')\n",
    "    css = re.compile(r'<style.*?/style>')\n",
    "    tags = re.compile(r'<.*?>')\n",
    "\n",
    "    text = scripts.sub('', text)\n",
    "    text = css.sub('', text)\n",
    "    text = tags.sub('', text)\n",
    "\n",
    "    return text\n",
    "\n",
    "def punctuation_remove(text):\n",
    "    \"\"\"\n",
    "    Mutates and returns text where all punctuation are replaced\n",
    "    \"\"\"\n",
    "    chars = re.escape(string.punctuation)\n",
    "    return re.sub(r'['+chars+']', ' ',text)\n",
    "\n",
    "def doublespace_remove(text):\n",
    "    return re.sub(' +',' ',text)"
   ]
  },
  {
   "cell_type": "code",
   "execution_count": 87,
   "metadata": {
    "collapsed": false
   },
   "outputs": [],
   "source": [
    "def tag_visible(element):\n",
    "    if element.parent.name in ['style', 'script', 'head', 'title', 'meta', '[document]']:\n",
    "        return False\n",
    "    if isinstance(element, Comment):\n",
    "        return False\n",
    "    return True\n",
    "\n",
    "def text_from_html(body):\n",
    "    soup = BeautifulSoup(body, 'html.parser')\n",
    "    texts = soup.findAll(text=True)\n",
    "    visible_texts = filter(tag_visible, texts)  \n",
    "    return u\" \".join(t.strip() for t in visible_texts)"
   ]
  },
  {
   "cell_type": "code",
   "execution_count": 97,
   "metadata": {
    "collapsed": false
   },
   "outputs": [],
   "source": [
    "webfiles = [webfile for webfile in os.listdir(path_to_docs) if '.' in webfile]\n",
    "htmlfiles = [{webfile:htmlfile} for htmlfile in os.listdir(path_to_docs + webfile) if htmlfile.endswith('.html') for webfile in webfiles]"
   ]
  },
  {
   "cell_type": "code",
   "execution_count": 103,
   "metadata": {
    "collapsed": true
   },
   "outputs": [],
   "source": [
    "ignore = ['DataDive/Google_Search_Masterlist_Identifier',\n",
    "'PageRank',\n",
    "'Reddit',\n",
    "'preDive',\n",
    "'Chan4_Analysis.R',\n",
    "'LSmithscrape_paths_from_home_pages.R',\n",
    "'README.md',\n",
    "'SPLC_Scrape_and_Strip.ipynb',\n",
    "'posts_4chan_pol_2.csv',\n",
    "'posts_4chan_pol_delim.csv',\n",
    "'.gitignore','.DS_Store', '.git', '.ipynb_checkpoints','RawUrls.txt']"
   ]
  },
  {
   "cell_type": "code",
   "execution_count": 112,
   "metadata": {
    "collapsed": false,
    "scrolled": false
   },
   "outputs": [],
   "source": [
    "characters_to_replace = ['\\u']\n",
    "for webfile in webfiles:\n",
    "    if not webfile in ignore:\n",
    "        htmldict = {}\n",
    "        htmlfiles = [htmlfile for htmlfile in os.listdir(path_to_docs + webfile) if htmlfile.endswith('.html')]\n",
    "        for htmlfile in htmlfiles:\n",
    "            htmldict[webfile] = {}\n",
    "            htmldict[webfile][htmlfile] = {}\n",
    "            with open(path_to_docs + webfile + '/' + htmlfile, \"r\") as myfile:\n",
    "                result = myfile.read()\n",
    "            htmldict[webfile][htmlfile]['text'] = text_from_html(result)\n",
    "            entities = get_entities(htmldict[webfile][htmlfile]['text'])\n",
    "            for char in characters_to_replace:\n",
    "                htmldict[webfile][htmlfile]['text'] = htmldict[webfile][htmlfile]['text'].encode('ascii','replace').lower().replace(char,\" \")\n",
    "            htmldict[webfile][htmlfile]['text'] = punctuation_remove(htmldict[webfile][htmlfile]['text'])\n",
    "            htmldict[webfile][htmlfile]['text'] = doublespace_remove(htmldict[webfile][htmlfile]['text'])\n",
    "            htmldict[webfile][htmlfile]['entities'] = entities\n",
    "            with open(output_clean, \"a\") as myfile:\n",
    "                myfile.write(str(htmldict))\n",
    "                myfile.write('\\n')"
   ]
  },
  {
   "cell_type": "code",
   "execution_count": 101,
   "metadata": {
    "collapsed": false
   },
   "outputs": [
    {
     "data": {
      "text/plain": [
       "[{u'                                             Home  ': u'ORG'},\n",
       " {u'Issues    ': u'ORG'},\n",
       " {u'Foreign Affairs': u'ORG'},\n",
       " {u'Social Issues': u'ORG'},\n",
       " {u'Morality': u'GPE'},\n",
       " {u'Social Issues': u'ORG'},\n",
       " {u'Morality': u'GPE'},\n",
       " {u'AFU': u'ORG'},\n",
       " {u'The Nationalist Times  Contact Us      Menu': u'ORG'},\n",
       " {u'Home': u'PERSON'}]"
      ]
     },
     "execution_count": 101,
     "metadata": {},
     "output_type": "execute_result"
    }
   ],
   "source": [
    "htmldict['americanfreedomunion.com']['index.html']['entities'][0:10]"
   ]
  },
  {
   "cell_type": "code",
   "execution_count": 102,
   "metadata": {
    "collapsed": false
   },
   "outputs": [
    {
     "data": {
      "text/plain": [
       "' home the nationalist times past issues politics economic issues foreign affairs social issues and morality home the nationalist times past issues politics economic issues foreign affairs social issues and morality home about the afu subscribe to the nationalist times contact us menu home about the afu subscribe to the nationalist times contact us breaking news unscrolling the narrative multiple standing ovations for judge roy moore as he hammers washington post smears at veterans day event if the saudi arabia situation doesn t worry you you re not paying attention the education of a race realist the national guard and law enforcement use secret planes to spy on our cellphones does honoring veterans perpetuate war five reasons why ray kurzweil s singularity will never happen cry losers cry what s wrong with inclusiveness omg putin and trump shake hands will america s communists now have a breakdown unscrolling the narrative multiple standing ovations for judge roy moore as he hammers washington post smears at veterans day event if the saudi arabia situation doesn t worry you you re not paying attention the education of a race realist the national guard and law enforcement use secret planes to spy on our cellphones does honoring veterans perpetuate war five reasons why ray kurzweil s singularity will never happen cry losers cry what s wrong with inclusiveness omg putin and trump shake hands will america s communists now have a breakdown politics multiple standing ovations for judge roy moore as he hammers washington post smears at veterans day event november 11 2017 no comments judge roy moore the gop nominee for the u s senate here in alabama received a standing ovation fr read more the national guard and law enforcement use secret planes to spy on our cellphones november 11 2017 no comments claim reporter secretly recorded offering woman 1 000 to accuse moore november 10 2017 no comments trump s nominee for dhs kirstjen nielsen is an open borders zealot november 10'"
      ]
     },
     "execution_count": 102,
     "metadata": {},
     "output_type": "execute_result"
    }
   ],
   "source": [
    "htmldict['americanfreedomunion.com']['index.html']['text'][0:2000]"
   ]
  },
  {
   "cell_type": "code",
   "execution_count": null,
   "metadata": {
    "collapsed": true
   },
   "outputs": [],
   "source": []
  }
 ],
 "metadata": {
  "anaconda-cloud": {},
  "kernelspec": {
   "display_name": "Python [Root]",
   "language": "python",
   "name": "Python [Root]"
  },
  "language_info": {
   "codemirror_mode": {
    "name": "ipython",
    "version": 2
   },
   "file_extension": ".py",
   "mimetype": "text/x-python",
   "name": "python",
   "nbconvert_exporter": "python",
   "pygments_lexer": "ipython2",
   "version": "2.7.12"
  }
 },
 "nbformat": 4,
 "nbformat_minor": 0
}
