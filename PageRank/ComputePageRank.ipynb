{
 "cells": [
  {
   "cell_type": "code",
   "execution_count": 31,
   "metadata": {
    "collapsed": true
   },
   "outputs": [],
   "source": [
    "from urllib.parse import urlparse"
   ]
  },
  {
   "cell_type": "code",
   "execution_count": 32,
   "metadata": {},
   "outputs": [],
   "source": [
    "import networkx\n",
    "import pandas as pd\n",
    "from bs4 import BeautifulSoup\n",
    "from os import walk\n",
    "import glob"
   ]
  },
  {
   "cell_type": "code",
   "execution_count": 33,
   "metadata": {
    "collapsed": true
   },
   "outputs": [],
   "source": [
    "data_path = \"/home/proctortc/Documents/OtherData/SPLCDataDive/\""
   ]
  },
  {
   "cell_type": "code",
   "execution_count": 34,
   "metadata": {
    "collapsed": true
   },
   "outputs": [],
   "source": [
    "def calculate_pagerank(data_path):\n",
    "    url_df = url_dataframe(data_path)\n",
    "    url_df = add_hosts(url_df, 0)\n",
    "    page_graph = initialize_graph(url_df)\n",
    "    edge_pairs = generate_edge_pairs(data_path, url_df)\n",
    "    return add_pagerank(url_df, edge_pairs, page_graph)"
   ]
  },
  {
   "cell_type": "code",
   "execution_count": 55,
   "metadata": {
    "collapsed": true
   },
   "outputs": [],
   "source": [
    "def add_pagerank(urldf, edge_tups, page_graph):\n",
    "    page_graph.add_edges_from(edge_tups)\n",
    "    ser = pd.Series(networkx.pagerank(page_graph))\n",
    "    ser.name = \"pagerank\"\n",
    "    return urldf.join(ser)"
   ]
  },
  {
   "cell_type": "code",
   "execution_count": 36,
   "metadata": {
    "collapsed": true
   },
   "outputs": [],
   "source": [
    "def url_dataframe(data_path):\n",
    "    return pd.read_csv(data_path + \"RawUrls.txt\", header=None)\n",
    "    "
   ]
  },
  {
   "cell_type": "code",
   "execution_count": 37,
   "metadata": {
    "collapsed": true
   },
   "outputs": [],
   "source": [
    "def get_datapath_len(data_path):\n",
    "    return len(data_path.split(\"/\"))"
   ]
  },
  {
   "cell_type": "code",
   "execution_count": 38,
   "metadata": {
    "collapsed": true
   },
   "outputs": [],
   "source": [
    "def get_all_netlocs(soup):\n",
    "    return get_netlocs(get_all_links(soup))"
   ]
  },
  {
   "cell_type": "code",
   "execution_count": 39,
   "metadata": {
    "collapsed": true
   },
   "outputs": [],
   "source": [
    "def get_all_links(soup):\n",
    "    a_s = soup.find_all('a')\n",
    "    hrefs = (a.attrs['href'] for a in a_s if 'href' in a.attrs.keys())\n",
    "    return hrefs\n",
    "    "
   ]
  },
  {
   "cell_type": "code",
   "execution_count": 40,
   "metadata": {
    "collapsed": true
   },
   "outputs": [],
   "source": [
    "get_hostname = lambda x: urlparse(x).hostname"
   ]
  },
  {
   "cell_type": "code",
   "execution_count": 53,
   "metadata": {
    "collapsed": true
   },
   "outputs": [],
   "source": [
    "def get_netlocs(hrefs):\n",
    "    return (get_hostname(href) for href in hrefs if href is not None)"
   ]
  },
  {
   "cell_type": "code",
   "execution_count": 42,
   "metadata": {
    "collapsed": true
   },
   "outputs": [],
   "source": [
    "def get_netlocs_file_list(base, none, file_list):\n",
    "    soups = [BeautifulSoup(open(base + \"/\" + file), 'lxml')\n",
    "             for file in file_list if file.split(\".\")[-1] == \"html\"]\n",
    "    netloc_list_o_lists = [set(get_all_netlocs(soup)) for soup in soups]\n",
    "    if len(netloc_list_o_lists) > 0:\n",
    "        return netloc_list_o_lists[0].union(*netloc_list_o_lists[1:])\n",
    "    "
   ]
  },
  {
   "cell_type": "code",
   "execution_count": 43,
   "metadata": {
    "collapsed": true
   },
   "outputs": [],
   "source": [
    "def get_origin_site(base, none, file_list, datapath_len=7):\n",
    "    return base.split(\"/\")[datapath_len]"
   ]
  },
  {
   "cell_type": "code",
   "execution_count": 44,
   "metadata": {},
   "outputs": [],
   "source": [
    "def generate_edge_pairs(data_path, url_df):\n",
    "    all_urls = glob.glob(data_path + \"URLScrape/*\")\n",
    "    datapath_len = get_datapath_len(data_path)\n",
    "    l = []\n",
    "    for i in all_urls:\n",
    "        for j in walk(i):\n",
    "            try:\n",
    "                l.append(((get_origin_site(*j, datapath_len=datapath_len),\n",
    "                           get_netlocs_file_list(*j))))\n",
    "            except UnicodeError:\n",
    "                pass\n",
    "    tups = [target_urls_to_tuple_list(*tup, url_df=url_df) for tup in l if tup[1] is not None]\n",
    "    flattened = flatten_list(tups)\n",
    "    return [(a, b) for a, b in flattened if b is not None]"
   ]
  },
  {
   "cell_type": "code",
   "execution_count": 45,
   "metadata": {},
   "outputs": [],
   "source": [
    "def add_hosts(url_dataframe, url_column):\n",
    "    hosts = url_dataframe[url_column].apply(get_hostname)\n",
    "    url_dataframe['hosts'] = hosts\n",
    "    return url_dataframe"
   ]
  },
  {
   "cell_type": "code",
   "execution_count": 51,
   "metadata": {
    "collapsed": true
   },
   "outputs": [],
   "source": [
    "def initialize_graph(url_data_frame):\n",
    "    node_indeces = url_data_frame.index.tolist()\n",
    "    page_graph = networkx.Graph()\n",
    "    page_graph.add_nodes_from(node_indeces)\n",
    "    return page_graph"
   ]
  },
  {
   "cell_type": "code",
   "execution_count": 47,
   "metadata": {},
   "outputs": [],
   "source": [
    "def url_index(netloc, urls):\n",
    "    if netloc is not None:\n",
    "        try:\n",
    "            return urls[urls['hosts']==netloc].index[0]\n",
    "        except IndexError:\n",
    "            return None"
   ]
  },
  {
   "cell_type": "code",
   "execution_count": 48,
   "metadata": {
    "collapsed": true
   },
   "outputs": [],
   "source": [
    "def target_urls_to_tuple_list(origin_page, target_list, url_df=None):\n",
    "    target_ids = (url_index(url, url_df) for url in target_list)\n",
    "    origin_id = url_index(origin_page, url_df)\n",
    "    return [(origin_id, target_id) for target_id in target_ids\n",
    "            if target_id is not None]"
   ]
  },
  {
   "cell_type": "code",
   "execution_count": 49,
   "metadata": {
    "collapsed": true
   },
   "outputs": [],
   "source": [
    "def flatten_list(li):\n",
    "    return [item for sublist in li for item in sublist]"
   ]
  },
  {
   "cell_type": "code",
   "execution_count": null,
   "metadata": {
    "collapsed": true
   },
   "outputs": [],
   "source": []
  }
 ],
 "metadata": {
  "kernelspec": {
   "display_name": "python3",
   "language": "python",
   "name": "python3"
  },
  "language_info": {
   "codemirror_mode": {
    "name": "ipython",
    "version": 3
   },
   "file_extension": ".py",
   "mimetype": "text/x-python",
   "name": "python",
   "nbconvert_exporter": "python",
   "pygments_lexer": "ipython3",
   "version": "3.4.3"
  }
 },
 "nbformat": 4,
 "nbformat_minor": 2
}
