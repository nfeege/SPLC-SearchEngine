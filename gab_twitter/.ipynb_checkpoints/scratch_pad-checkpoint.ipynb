{
 "cells": [
  {
   "cell_type": "code",
   "execution_count": 4,
   "metadata": {
    "collapsed": false
   },
   "outputs": [],
   "source": [
    "''' Twitter\n",
    "Get a list of users and see if they have a gab presence:\n",
    "- check their bios to search for gab profiles\n",
    "- is there someone one on gab with a similar name/username/etc...\n",
    "\n",
    "Need a way to determine list of users to check:\n",
    "- followers of Trump/Coulter/Breitbart/Gab/etc...\n",
    "- users under a specific search/topic/hashtag\n",
    "\n",
    "final data type OverlappingUser: { gabAcct: gabPosts, twitterAcct: tweets }\n",
    "'''\n",
    "\n",
    "import twitter as tw\n",
    "import gab_api as gab\n"
   ]
  },
  {
   "cell_type": "code",
   "execution_count": null,
   "metadata": {
    "collapsed": true
   },
   "outputs": [],
   "source": []
  }
 ],
 "metadata": {
  "kernelspec": {
   "display_name": "Python 2",
   "language": "python",
   "name": "python2"
  },
  "language_info": {
   "codemirror_mode": {
    "name": "ipython",
    "version": 2
   },
   "file_extension": ".py",
   "mimetype": "text/x-python",
   "name": "python",
   "nbconvert_exporter": "python",
   "pygments_lexer": "ipython2",
   "version": "2.7.12"
  }
 },
 "nbformat": 4,
 "nbformat_minor": 0
}
