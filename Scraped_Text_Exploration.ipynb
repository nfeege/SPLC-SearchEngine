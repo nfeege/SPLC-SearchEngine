{
 "cells": [
  {
   "cell_type": "code",
   "execution_count": 100,
   "metadata": {
    "collapsed": true
   },
   "outputs": [],
   "source": [
    "import io\n",
    "import pandas as pd\n",
    "import numpy as np\n",
    "\n",
    "from sklearn.feature_extraction.text import TfidfVectorizer\n",
    "from nltk.corpus import stopwords\n",
    "from textblob import TextBlob\n",
    "\n",
    "import matplotlib.pyplot as plt\n",
    "%matplotlib inline\n",
    "import seaborn as sns\n",
    "sns.set_context('notebook', rc={'figure.figsize': (10, 6)}, font_scale=1.5)"
   ]
  },
  {
   "cell_type": "code",
   "execution_count": 80,
   "metadata": {
    "collapsed": false
   },
   "outputs": [],
   "source": [
    "stopwords = set(stopwords.words('english'))\n",
    "stopwords.update(['http','https','www'])"
   ]
  },
  {
   "cell_type": "code",
   "execution_count": 50,
   "metadata": {
    "collapsed": false
   },
   "outputs": [],
   "source": [
    "input_data = 'clean_scraped_text/clean_scraped_text.txt'\n",
    "data = []\n",
    "with io.open(input_data,'r',encoding=\"utf-8\") as f:\n",
    "    for line in f:\n",
    "        data.append(eval(line.strip('\\n')))"
   ]
  },
  {
   "cell_type": "code",
   "execution_count": 58,
   "metadata": {
    "collapsed": false
   },
   "outputs": [],
   "source": [
    "df = pd.DataFrame()\n",
    "for row in data:\n",
    "    temp = pd.DataFrame.from_dict({(i,j): row[i][j] \n",
    "                           for i in row.keys() \n",
    "                           for j in row[i].keys()},\n",
    "                       orient='index')\n",
    "    df = df.append(temp)"
   ]
  },
  {
   "cell_type": "code",
   "execution_count": 61,
   "metadata": {
    "collapsed": false
   },
   "outputs": [],
   "source": [
    "df.reset_index(inplace=True)"
   ]
  },
  {
   "cell_type": "code",
   "execution_count": 63,
   "metadata": {
    "collapsed": false,
    "scrolled": true
   },
   "outputs": [
    {
     "data": {
      "text/html": [
       "<div>\n",
       "<style>\n",
       "    .dataframe thead tr:only-child th {\n",
       "        text-align: right;\n",
       "    }\n",
       "\n",
       "    .dataframe thead th {\n",
       "        text-align: left;\n",
       "    }\n",
       "\n",
       "    .dataframe tbody tr th {\n",
       "        vertical-align: top;\n",
       "    }\n",
       "</style>\n",
       "<table border=\"1\" class=\"dataframe\">\n",
       "  <thead>\n",
       "    <tr style=\"text-align: right;\">\n",
       "      <th></th>\n",
       "      <th>level_0</th>\n",
       "      <th>level_1</th>\n",
       "      <th>text</th>\n",
       "      <th>entities</th>\n",
       "    </tr>\n",
       "  </thead>\n",
       "  <tbody>\n",
       "    <tr>\n",
       "      <th>0</th>\n",
       "      <td>active-democracy.com</td>\n",
       "      <td>index.html</td>\n",
       "      <td>search search home about us active democracy ...</td>\n",
       "      <td>[{u'Search         ': u'PERSON'}, {u'Us': u'GP...</td>\n",
       "    </tr>\n",
       "    <tr>\n",
       "      <th>1</th>\n",
       "      <td>addr.ws</td>\n",
       "      <td>the-nation-of-islam-lexington-ky-study-group--...</td>\n",
       "      <td>just addr lexington the nation of islam lexin...</td>\n",
       "      <td>[{u'           ': u'GPE'}, {u'Lexington': u'GP...</td>\n",
       "    </tr>\n",
       "    <tr>\n",
       "      <th>2</th>\n",
       "      <td>alternative-right.blogspot.com</td>\n",
       "      <td>index.html</td>\n",
       "      <td>friday 10 november 2017 unscrolling the narra...</td>\n",
       "      <td>[{u'                                          ...</td>\n",
       "    </tr>\n",
       "    <tr>\n",
       "      <th>3</th>\n",
       "      <td>americaneagleparty.com</td>\n",
       "      <td>index.html</td>\n",
       "      <td>toggle navigation home the issues take action...</td>\n",
       "      <td>[{u'                                          ...</td>\n",
       "    </tr>\n",
       "    <tr>\n",
       "      <th>4</th>\n",
       "      <td>americanfreedomunion.com</td>\n",
       "      <td>index.html</td>\n",
       "      <td>home the nationalist times past issues politi...</td>\n",
       "      <td>[{u'                                          ...</td>\n",
       "    </tr>\n",
       "  </tbody>\n",
       "</table>\n",
       "</div>"
      ],
      "text/plain": [
       "                          level_0  \\\n",
       "0            active-democracy.com   \n",
       "1                         addr.ws   \n",
       "2  alternative-right.blogspot.com   \n",
       "3          americaneagleparty.com   \n",
       "4        americanfreedomunion.com   \n",
       "\n",
       "                                             level_1  \\\n",
       "0                                         index.html   \n",
       "1  the-nation-of-islam-lexington-ky-study-group--...   \n",
       "2                                         index.html   \n",
       "3                                         index.html   \n",
       "4                                         index.html   \n",
       "\n",
       "                                                text  \\\n",
       "0   search search home about us active democracy ...   \n",
       "1   just addr lexington the nation of islam lexin...   \n",
       "2   friday 10 november 2017 unscrolling the narra...   \n",
       "3   toggle navigation home the issues take action...   \n",
       "4   home the nationalist times past issues politi...   \n",
       "\n",
       "                                            entities  \n",
       "0  [{u'Search         ': u'PERSON'}, {u'Us': u'GP...  \n",
       "1  [{u'           ': u'GPE'}, {u'Lexington': u'GP...  \n",
       "2  [{u'                                          ...  \n",
       "3  [{u'                                          ...  \n",
       "4  [{u'                                          ...  "
      ]
     },
     "execution_count": 63,
     "metadata": {},
     "output_type": "execute_result"
    }
   ],
   "source": [
    "df.head()"
   ]
  },
  {
   "cell_type": "code",
   "execution_count": 82,
   "metadata": {
    "collapsed": true
   },
   "outputs": [],
   "source": [
    "def remove_stopwords(text):\n",
    "    '''\n",
    "    Multilingual stopwords removal\n",
    "    '''\n",
    "    try:\n",
    "        text = ' '.join([word for word in text.split(' ') if word not in stopwords.words('english')])\n",
    "        return text\n",
    "    except:\n",
    "        return text\n",
    "    \n",
    "def textblobsent(text):\n",
    "    '''\n",
    "    returns the TextBlob polarity and subjectivity\n",
    "    '''\n",
    "    text = text.encode('ascii','replace')\n",
    "    sent = TextBlob(text).sentiment\n",
    "    return pd.Series([sent.polarity,sent.subjectivity])"
   ]
  },
  {
   "cell_type": "code",
   "execution_count": 112,
   "metadata": {
    "collapsed": false
   },
   "outputs": [],
   "source": [
    "df['CleanText'] = df['text'].apply(remove_stopwords)\n",
    "sentdf = df['text'].apply(textblobsent)\n",
    "sentdf.columns = ['Polarity','Subjectivity']\n",
    "df = pd.concat([df,sentdf],axis=1)"
   ]
  },
  {
   "cell_type": "code",
   "execution_count": 113,
   "metadata": {
    "collapsed": false
   },
   "outputs": [
    {
     "data": {
      "text/plain": [
       "Index([u'level_0', u'level_1', u'text', u'entities', u'CleanText',\n",
       "       u'TextblobPolarity', u'TextblobSubjectivity', u'Polarity',\n",
       "       u'Subjectivity', u'Polarity', u'Subjectivity'],\n",
       "      dtype='object')"
      ]
     },
     "execution_count": 113,
     "metadata": {},
     "output_type": "execute_result"
    }
   ],
   "source": [
    "df.columns"
   ]
  },
  {
   "cell_type": "code",
   "execution_count": null,
   "metadata": {
    "collapsed": true
   },
   "outputs": [],
   "source": []
  }
 ],
 "metadata": {
  "kernelspec": {
   "display_name": "Python [Root]",
   "language": "python",
   "name": "Python [Root]"
  },
  "language_info": {
   "codemirror_mode": {
    "name": "ipython",
    "version": 2
   },
   "file_extension": ".py",
   "mimetype": "text/x-python",
   "name": "python",
   "nbconvert_exporter": "python",
   "pygments_lexer": "ipython2",
   "version": "2.7.12"
  }
 },
 "nbformat": 4,
 "nbformat_minor": 0
}
